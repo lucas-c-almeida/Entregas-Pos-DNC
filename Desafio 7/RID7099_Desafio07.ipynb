{
 "cells": [
  {
   "cell_type": "markdown",
   "metadata": {},
   "source": [
    "# Desafio: Crie um modelo de análise das métricas RFV"
   ]
  },
  {
   "cell_type": "markdown",
   "metadata": {},
   "source": [
    "- [**Python Graph Gallery**](https://www.python-graph-gallery.com/): repositório com o passo a passo de como gerar gráficos utilizando as principais bibliotecas de Python\n",
    "- [**SciKit Learn](https://scikit-learn.org/stable/modules/clustering.html#clustering):** documentação com os principais modelos utilizados para clusterização\n",
    "- [**ChatGPT](https://chat.openai.com/):** Pode ser útil para iniciar sua pesquisa!"
   ]
  },
  {
   "cell_type": "markdown",
   "metadata": {},
   "source": [
    "### Elabore um modelo de Clustering\n",
    "Você deverá utilizar um modelo de Clustering para criar um sistema de agrupamento de perfis de clientes para um e-commerce. Deverá analisar o modelo mais eficiente, capaz de tornar as análises mais simplificadas para a empresa."
   ]
  },
  {
   "cell_type": "markdown",
   "metadata": {},
   "source": [
    "### 🚨 Atente-se ao formato de entrega deste desafio!\n",
    "\n",
    "1. Nomeie o seu colab com o RID e o número do desafio. Exemplo: RID1234_Desafio01\n",
    "2. Vá em Arquivo > Fazer download > Baixar o .ipynb\n",
    "3. Faça o upload do arquivo no drive\n",
    "4. Altere as configurações do arquivo para deixá-lo público. \n",
    "5. Copie o link após alterar a permissão de acesso.\n",
    "6. Submeta o link do arquivo (e não da pasta do drive!) na plataforma."
   ]
  },
  {
   "cell_type": "markdown",
   "metadata": {},
   "source": [
    "## Contexto"
   ]
  },
  {
   "cell_type": "markdown",
   "metadata": {},
   "source": [
    "Você foi contratado por uma empresa de e-commerce que está buscando entender melhor o comportamento de seus clientes para personalizar as suas campanhas de marketing. Para isso, a empresa disponibilizou uma base de dados em csv contendo dados sobre clientes, produtos e transações da loja realizadas entre os anos de 2010 e 2011.\n",
    "\n",
    "Com base nesses dados, você precisa agrupar os clientes em clusters com base em seu comportamento de compra. Isso irá permitir identificar padrões e características em comum entre os clientes, como:\n",
    "\n",
    "- Clientes que compram os mesmos produtos;\n",
    "- Clientes que possuem a mesma frequência de compras;\n",
    "- Clientes que gastam mais dinheiro em suas compras.\n",
    "\n",
    "A partir desses clusters, gere insights para que a empresa possa segmentar melhor a sua base de clientes e personalizar as suas campanhas de marketing, direcionando promoções e ofertas aos clientes com base no comportamento de compras."
   ]
  },
  {
   "cell_type": "markdown",
   "metadata": {},
   "source": [
    "### Sobre os dados"
   ]
  },
  {
   "cell_type": "markdown",
   "metadata": {},
   "source": [
    "Acesse os dados aqui: https://www.kaggle.com/datasets/carrie1/ecommerce-data\n",
    "\n",
    "Os dados fornecidos possuem informações de transações de compras de uma loja de e-commerce em 38 países e territórios, com mais de 4.000 clientes únicos e mais de 540.000 transações.\n",
    "\n",
    "Atenção: as datas estão no formato MM/DD/YYYY HH:mm:ss; existem dados nulos que precisam ser tratados antes da realização da análise; por mais que os códigos de identificação sejam numéricos, o modelo não pode considerá-los como grandezas numéricas."
   ]
  },
  {
   "cell_type": "markdown",
   "metadata": {},
   "source": [
    "| Coluna      | Descrição                        | Tipo     |\n",
    "|-------------|----------------------------------|----------|\n",
    "| InvoiceNo   | Identificação da transação       | Int      |\n",
    "| StockCode   | Código de estoque do produto     | String   |\n",
    "| Description | Descrição do produto             | String   |\n",
    "| Quantity    | Quantidade de produtos por transação | Int      |\n",
    "| InvoiceDate | Data da transação                | Datetime |\n",
    "| UnitPrice   | Preço unitário do produto        | Float    |\n",
    "| CustomerID  | Identificação do cliente         | Int      |\n",
    "| Country     | País de origem da transação      | String   |\n"
   ]
  },
  {
   "cell_type": "markdown",
   "metadata": {},
   "source": [
    "## Como começar?"
   ]
  },
  {
   "cell_type": "markdown",
   "metadata": {},
   "source": [
    "Desenvolva um modelo de clusterização que seja capaz de agrupar os clientes conforme o seu comportamento de compras levando em consideração o RFM calculado no desafio 4.\n",
    "\n",
    "Analise os clusters obtidos para identificar o perfil de cliente, como padrões e características em comum para determinar o seu comportamento de compra. Utilize gráficos e visualizações para auxiliar na análise.\n",
    "\n",
    "Não se esqueça de documentar cada etapa, justificando as escolhas realizadas. É essencial informar os insights obtidos e as recomendações de ações futuras para que a empresa possa colocá-los em prática. Boa sorte!"
   ]
  },
  {
   "cell_type": "markdown",
   "metadata": {},
   "source": [
    "# 🎯 Etapas de Desenvolvimento"
   ]
  },
  {
   "cell_type": "markdown",
   "metadata": {},
   "source": [
    "## **Etapa 01) Análise exploratória dos dados**"
   ]
  },
  {
   "cell_type": "markdown",
   "metadata": {},
   "source": [
    "1. Carregue a base de dados;"
   ]
  },
  {
   "cell_type": "code",
   "execution_count": null,
   "metadata": {},
   "outputs": [],
   "source": [
    "!pip install kagglehub"
   ]
  },
  {
   "cell_type": "code",
   "execution_count": 11,
   "metadata": {},
   "outputs": [],
   "source": [
    "import kagglehub\n",
    "import pandas as pd\n",
    "import os\n",
    "\n",
    "path = kagglehub.dataset_download(\"carrie1/ecommerce-data\")\n",
    "df = pd.read_csv(os.path.join(path, 'data.csv'), encoding='ISO-8859-1')"
   ]
  },
  {
   "cell_type": "markdown",
   "metadata": {},
   "source": [
    "2. Realize uma descrição estatística dos dados;"
   ]
  },
  {
   "cell_type": "code",
   "execution_count": 12,
   "metadata": {},
   "outputs": [
    {
     "name": "stdout",
     "output_type": "stream",
     "text": [
      "Requirement already satisfied: summarytools in c:\\users\\lucas\\anaconda3\\lib\\site-packages (0.3.0)\n",
      "Requirement already satisfied: pandas>=1.4.0 in c:\\users\\lucas\\anaconda3\\lib\\site-packages (from summarytools) (2.2.2)\n",
      "Requirement already satisfied: ipython>=7.20.0 in c:\\users\\lucas\\anaconda3\\lib\\site-packages (from summarytools) (8.27.0)\n",
      "Requirement already satisfied: numpy>=1.18.5 in c:\\users\\lucas\\anaconda3\\lib\\site-packages (from summarytools) (1.26.4)\n",
      "Requirement already satisfied: matplotlib>=3.3.0 in c:\\users\\lucas\\anaconda3\\lib\\site-packages (from summarytools) (3.9.2)\n",
      "Requirement already satisfied: decorator in c:\\users\\lucas\\anaconda3\\lib\\site-packages (from ipython>=7.20.0->summarytools) (5.1.1)\n",
      "Requirement already satisfied: jedi>=0.16 in c:\\users\\lucas\\anaconda3\\lib\\site-packages (from ipython>=7.20.0->summarytools) (0.19.1)\n",
      "Requirement already satisfied: matplotlib-inline in c:\\users\\lucas\\anaconda3\\lib\\site-packages (from ipython>=7.20.0->summarytools) (0.1.6)\n",
      "Requirement already satisfied: prompt-toolkit<3.1.0,>=3.0.41 in c:\\users\\lucas\\anaconda3\\lib\\site-packages (from ipython>=7.20.0->summarytools) (3.0.43)\n",
      "Requirement already satisfied: pygments>=2.4.0 in c:\\users\\lucas\\anaconda3\\lib\\site-packages (from ipython>=7.20.0->summarytools) (2.15.1)\n",
      "Requirement already satisfied: stack-data in c:\\users\\lucas\\anaconda3\\lib\\site-packages (from ipython>=7.20.0->summarytools) (0.2.0)\n",
      "Requirement already satisfied: traitlets>=5.13.0 in c:\\users\\lucas\\anaconda3\\lib\\site-packages (from ipython>=7.20.0->summarytools) (5.14.3)\n",
      "Requirement already satisfied: colorama in c:\\users\\lucas\\anaconda3\\lib\\site-packages (from ipython>=7.20.0->summarytools) (0.4.6)\n",
      "Requirement already satisfied: contourpy>=1.0.1 in c:\\users\\lucas\\anaconda3\\lib\\site-packages (from matplotlib>=3.3.0->summarytools) (1.2.0)\n",
      "Requirement already satisfied: cycler>=0.10 in c:\\users\\lucas\\anaconda3\\lib\\site-packages (from matplotlib>=3.3.0->summarytools) (0.11.0)\n",
      "Requirement already satisfied: fonttools>=4.22.0 in c:\\users\\lucas\\anaconda3\\lib\\site-packages (from matplotlib>=3.3.0->summarytools) (4.51.0)\n",
      "Requirement already satisfied: kiwisolver>=1.3.1 in c:\\users\\lucas\\anaconda3\\lib\\site-packages (from matplotlib>=3.3.0->summarytools) (1.4.4)\n",
      "Requirement already satisfied: packaging>=20.0 in c:\\users\\lucas\\anaconda3\\lib\\site-packages (from matplotlib>=3.3.0->summarytools) (24.1)\n",
      "Requirement already satisfied: pillow>=8 in c:\\users\\lucas\\anaconda3\\lib\\site-packages (from matplotlib>=3.3.0->summarytools) (10.4.0)\n",
      "Requirement already satisfied: pyparsing>=2.3.1 in c:\\users\\lucas\\anaconda3\\lib\\site-packages (from matplotlib>=3.3.0->summarytools) (3.1.2)\n",
      "Requirement already satisfied: python-dateutil>=2.7 in c:\\users\\lucas\\anaconda3\\lib\\site-packages (from matplotlib>=3.3.0->summarytools) (2.9.0.post0)\n",
      "Requirement already satisfied: pytz>=2020.1 in c:\\users\\lucas\\anaconda3\\lib\\site-packages (from pandas>=1.4.0->summarytools) (2024.1)\n",
      "Requirement already satisfied: tzdata>=2022.7 in c:\\users\\lucas\\anaconda3\\lib\\site-packages (from pandas>=1.4.0->summarytools) (2023.3)\n",
      "Requirement already satisfied: parso<0.9.0,>=0.8.3 in c:\\users\\lucas\\anaconda3\\lib\\site-packages (from jedi>=0.16->ipython>=7.20.0->summarytools) (0.8.3)\n",
      "Requirement already satisfied: wcwidth in c:\\users\\lucas\\anaconda3\\lib\\site-packages (from prompt-toolkit<3.1.0,>=3.0.41->ipython>=7.20.0->summarytools) (0.2.5)\n",
      "Requirement already satisfied: six>=1.5 in c:\\users\\lucas\\anaconda3\\lib\\site-packages (from python-dateutil>=2.7->matplotlib>=3.3.0->summarytools) (1.16.0)\n",
      "Requirement already satisfied: executing in c:\\users\\lucas\\anaconda3\\lib\\site-packages (from stack-data->ipython>=7.20.0->summarytools) (0.8.3)\n",
      "Requirement already satisfied: asttokens in c:\\users\\lucas\\anaconda3\\lib\\site-packages (from stack-data->ipython>=7.20.0->summarytools) (2.0.5)\n",
      "Requirement already satisfied: pure-eval in c:\\users\\lucas\\anaconda3\\lib\\site-packages (from stack-data->ipython>=7.20.0->summarytools) (0.2.2)\n"
     ]
    }
   ],
   "source": [
    "!pip install summarytools"
   ]
  },
  {
   "cell_type": "code",
   "execution_count": 13,
   "metadata": {},
   "outputs": [
    {
     "data": {
      "text/html": [
       "<style type=\"text/css\">\n",
       "#T_c9de8 thead>tr>th {\n",
       "  text-align: left;\n",
       "}\n",
       "#T_c9de8_row0_col0, #T_c9de8_row1_col0, #T_c9de8_row2_col0, #T_c9de8_row3_col0, #T_c9de8_row4_col0, #T_c9de8_row5_col0, #T_c9de8_row6_col0, #T_c9de8_row7_col0 {\n",
       "  text-align: left;\n",
       "  font-size: 12px;\n",
       "  vertical-align: middle;\n",
       "  width: 5%;\n",
       "  max-width: 50px;\n",
       "  min-width: 20px;\n",
       "}\n",
       "#T_c9de8_row0_col1, #T_c9de8_row1_col1, #T_c9de8_row2_col1, #T_c9de8_row3_col1, #T_c9de8_row4_col1, #T_c9de8_row5_col1, #T_c9de8_row6_col1, #T_c9de8_row7_col1 {\n",
       "  text-align: left;\n",
       "  font-size: 12px;\n",
       "  vertical-align: middle;\n",
       "  width: 15%;\n",
       "  max-width: 200px;\n",
       "  min-width: 100px;\n",
       "  word-break: break-word;\n",
       "}\n",
       "#T_c9de8_row0_col2, #T_c9de8_row1_col2, #T_c9de8_row2_col2, #T_c9de8_row3_col2, #T_c9de8_row4_col2, #T_c9de8_row5_col2, #T_c9de8_row6_col2, #T_c9de8_row7_col2 {\n",
       "  text-align: left;\n",
       "  font-size: 12px;\n",
       "  vertical-align: middle;\n",
       "  width: 30%;\n",
       "  min-width: 100px;\n",
       "}\n",
       "#T_c9de8_row0_col3, #T_c9de8_row1_col3, #T_c9de8_row2_col3, #T_c9de8_row3_col3, #T_c9de8_row4_col3, #T_c9de8_row5_col3, #T_c9de8_row6_col3, #T_c9de8_row7_col3 {\n",
       "  text-align: left;\n",
       "  font-size: 12px;\n",
       "  vertical-align: middle;\n",
       "  width: 25%;\n",
       "  min-width: 100px;\n",
       "}\n",
       "#T_c9de8_row0_col4, #T_c9de8_row1_col4, #T_c9de8_row2_col4, #T_c9de8_row3_col4, #T_c9de8_row4_col4, #T_c9de8_row5_col4, #T_c9de8_row6_col4, #T_c9de8_row7_col4 {\n",
       "  text-align: left;\n",
       "  font-size: 12px;\n",
       "  vertical-align: middle;\n",
       "  width: 20%;\n",
       "  min-width: 150px;\n",
       "}\n",
       "#T_c9de8_row0_col5, #T_c9de8_row1_col5, #T_c9de8_row2_col5, #T_c9de8_row3_col5, #T_c9de8_row4_col5, #T_c9de8_row5_col5, #T_c9de8_row6_col5, #T_c9de8_row7_col5 {\n",
       "  text-align: left;\n",
       "  font-size: 12px;\n",
       "  vertical-align: middle;\n",
       "  width: 10%;\n",
       "}\n",
       "</style>\n",
       "<table id=\"T_c9de8\">\n",
       "  <caption><strong>Data Frame Summary</strong><br>df<br>Dimensions: 541,909 x 8<br>Duplicates: 5,268</caption>\n",
       "  <thead>\n",
       "    <tr>\n",
       "      <th id=\"T_c9de8_level0_col0\" class=\"col_heading level0 col0\" >No</th>\n",
       "      <th id=\"T_c9de8_level0_col1\" class=\"col_heading level0 col1\" >Variable</th>\n",
       "      <th id=\"T_c9de8_level0_col2\" class=\"col_heading level0 col2\" >Stats / Values</th>\n",
       "      <th id=\"T_c9de8_level0_col3\" class=\"col_heading level0 col3\" >Freqs / (% of Valid)</th>\n",
       "      <th id=\"T_c9de8_level0_col4\" class=\"col_heading level0 col4\" >Graph</th>\n",
       "      <th id=\"T_c9de8_level0_col5\" class=\"col_heading level0 col5\" >Missing</th>\n",
       "    </tr>\n",
       "  </thead>\n",
       "  <tbody>\n",
       "    <tr>\n",
       "      <td id=\"T_c9de8_row0_col0\" class=\"data row0 col0\" >1</td>\n",
       "      <td id=\"T_c9de8_row0_col1\" class=\"data row0 col1\" ><strong>InvoiceNo</strong><br>[object]</td>\n",
       "      <td id=\"T_c9de8_row0_col2\" class=\"data row0 col2\" >1. 573585<br>2. 581219<br>3. 581492<br>4. 580729<br>5. 558475<br>6. 579777<br>7. 581217<br>8. 537434<br>9. 580730<br>10. 538071<br>11. other</td>\n",
       "      <td id=\"T_c9de8_row0_col3\" class=\"data row0 col3\" >1,114 (0.2%)<br>749 (0.1%)<br>731 (0.1%)<br>721 (0.1%)<br>705 (0.1%)<br>687 (0.1%)<br>676 (0.1%)<br>675 (0.1%)<br>662 (0.1%)<br>652 (0.1%)<br>534,537 (98.6%)</td>\n",
       "      <td id=\"T_c9de8_row0_col4\" class=\"data row0 col4\" ><img src = \"data:image/png;base64, iVBORw0KGgoAAAANSUhEUgAAAJsAAAD+CAYAAAAtWHdlAAAAOXRFWHRTb2Z0d2FyZQBNYXRwbG90bGliIHZlcnNpb24zLjkuMiwgaHR0cHM6Ly9tYXRwbG90bGliLm9yZy8hTgPZAAAACXBIWXMAAA9hAAAPYQGoP6dpAAADXElEQVR4nO3cwWkbYRRG0TdGOPZGQhhcQtKDi0ixKUJFpAdjPIvY8WaySBYpINwB5ZwK/sWFh2A+Ldu2DRRu9n4A/w+xkREbGbGRERsZsZERGxmxkREbGbGRuVmW5cuyLHd7P4TrdzMzn2fm094P4fo5o2TERkZsZMRGRmxkxEZGbGTERkZsZMRGRmxkxEZGbGTERkZsZMRG5mZmvs/Mz70fwvVb/IsRFWeUjNjIWFeRsa4i44ySERsZsZERGxmxkREbGbGRERsZsZERGxmxkREbGbGRERsZsZExeCFj8ELGGSUjNjIGL2QMXsg4o2TERkZsZMRGRmxkxEZGbGTERkZsZMRGRmxkxEZGbGTERkZsZAxeyBi8kHFGyYiNjNjIWFeRsa4i44ySERsZsZERGxmxkREbGbGRERsZsZERGxmxkREbGbGRERsZsZGxriJjXUXGGSUjNjIGL2QMXsg4o2TERkZsZMRGRmxkxEZGbGTERkZsZMRGRmxkxEZGbGTERkZsZAxeyBi8kHFGyYiNjMELGYMXMs4oGbGRERsZsZERGxmxkREbGbGRERsZsZERGxmxkREbGbGRERsZsZGxriJjXUXGGSUjNjLWVWSsq8g4o2TERkZsZMRGRmxkxEZGbGTERkZsZMRGRmxkxEZGbGTERkZsZAxeyBi8kHFGyYiNjMELGYMXMs4oGbGRERsZsZERGxmxkREbGbGRERsZsZERGxmxkREbGbGRERsZgxcyBi9knFEyYiMjNjLWVWSsq8g4o2TERkZsZMRGRmxkxEZGbGTERkZsZMRGRmxkxEZGbGTERkZsZKyryFhXkXFGyYiNjMELGYMXMs4oGbGRERsZsZERGxmxkREbGbGRERsZsZERGxmxkREbGbGRERsZgxcyBi9knFEyy8zcz8zt3g/hqn1s2/Z2eHh4+Ho8Hs97v4brta7ry7Is3w7H4/H89PT0djqd3vd+FNfn9fX17nK5nJ+fn28PMzOn0+n98fHxx94P42rdz/iBQEhsZMRGRmxkxEZGbGTERkZsZMRGRmxkxEZGbGTERuYw8/szkL0fwnX6u63Duq4vl8vlPH8+A4F/bV3Xl5n58Fk4hY9t296sq8j4gUBGbGTERkZsZMRGRmxkxEZGbGTERuYXwgdpOf758ysAAAAASUVORK5CYII=\"></img></td>\n",
       "      <td id=\"T_c9de8_row0_col5\" class=\"data row0 col5\" >0<br>(0.0%)</td>\n",
       "    </tr>\n",
       "    <tr>\n",
       "      <td id=\"T_c9de8_row1_col0\" class=\"data row1 col0\" >2</td>\n",
       "      <td id=\"T_c9de8_row1_col1\" class=\"data row1 col1\" ><strong>StockCode</strong><br>[object]</td>\n",
       "      <td id=\"T_c9de8_row1_col2\" class=\"data row1 col2\" >1. 85123A<br>2. 22423<br>3. 85099B<br>4. 47566<br>5. 20725<br>6. 84879<br>7. 22720<br>8. 22197<br>9. 21212<br>10. 20727<br>11. other</td>\n",
       "      <td id=\"T_c9de8_row1_col3\" class=\"data row1 col3\" >2,313 (0.4%)<br>2,203 (0.4%)<br>2,159 (0.4%)<br>1,727 (0.3%)<br>1,639 (0.3%)<br>1,502 (0.3%)<br>1,477 (0.3%)<br>1,476 (0.3%)<br>1,385 (0.3%)<br>1,350 (0.2%)<br>524,678 (96.8%)</td>\n",
       "      <td id=\"T_c9de8_row1_col4\" class=\"data row1 col4\" ><img src = \"data:image/png;base64, iVBORw0KGgoAAAANSUhEUgAAAJsAAAD+CAYAAAAtWHdlAAAAOXRFWHRTb2Z0d2FyZQBNYXRwbG90bGliIHZlcnNpb24zLjkuMiwgaHR0cHM6Ly9tYXRwbG90bGliLm9yZy8hTgPZAAAACXBIWXMAAA9hAAAPYQGoP6dpAAADoElEQVR4nO3cQWojVxhG0b+McNqTEkLgJSR78CJ6sb0ILSJ7MMY1iDueKIMEYtKdSaBvgXLOyGj0Bhc9SdTn5Xq9DhTu9j4A/x9iIyM2MmIjIzYyYiMjNjJiIyM2MsvMPMzMXK/Xt53Pwo07nM/nzzMzy7J8ERw/0t26rqd1XU8zc7/3YbhtPrORERsZsZERGxmxkREbGbGRERsZsZERGxmxkREbGbGRERsZsZERG5nDtm0vf/39vutJuHk2CGQW/zKLinc2MtZVZKyryPjpg4zYyIiNjNjIiI2M2MiIjYzYyIiNjNjIiI2M2MiIjYzYyIiNjMELGY+FkzF4IeOdjYzBCxmDFzJ++iAjNjJiIyM2MmIjIzYyYiMjNjJiIyM2MmIjIzYyYiMjNjJiI2PwQsZj4WQMXsj4zEZGbGTulmX5ZVmWT3sfhNt3NzM/z8xPex+E2+caJSM2MmIjIzYyYiMjNjJiIyM2MmIjIzYyYiMjNjJiIyM2MmIjczczv87M73sfhNtn8ELGNUpGbGQMXsgYvJBxjZIRGxmxkREbGbGRERsZsZERGxmxkREbGbGRERsZsZERGxmxkTF4IWPwQsY1SkZsZAxeyBi8kHGNkhEbGbGRERsZsZERGxmxkREbGbGRERsZsZERGxmxkREbGbGRERsZ6yoy1lVkXKNkxEbGuoqMdRUZ1ygZsZERGxmxkREbGbGRERsZsZERGxmxkREbGbGRERsZsZERGxmDFzIGL2Rco2TERsbghYzBCxnXKBmxkREbGbGRERsZsZERGxmxkREbGbGRERsZsZERGxmxkREbGYMXMgYvZFyjZMRGRmxkrKvIWFeRcY2SERsZsZERGxmxkREbGbGRERsZsZERGxmxkREbGbGRERsZsZGxriJjXUXGNUpGbGQMXsgYvJBxjZIRGxmxkREbGbGRERsZsZERGxmxkREbGbGRERsZsZERGxmxkTF4IWPwQsY1SmaZmYeZud/7INyc9+v1+vbxhcP5fP68rutprxNxm7Zte1mW5cvH4A7rup6enp7ejsfj1z0Px+14fX39dLlcTs/Pz/cz83dsMzPH4/Hr4+Pjb7udjlv08M8XfEEgIzYyYiMjNjJiIyM2MmIjIzYyYiMjNjJiIyM2MmIjc5j585GQvQ/C7fi3ng7btr1cLpfTfOeREPivtm17mZn3j695LJwf5ZvHwq2ryPiCQEZsZMRGRmxkxEZGbGTERkZsZMRG5g//Y5666t8WrwAAAABJRU5ErkJggg==\"></img></td>\n",
       "      <td id=\"T_c9de8_row1_col5\" class=\"data row1 col5\" >0<br>(0.0%)</td>\n",
       "    </tr>\n",
       "    <tr>\n",
       "      <td id=\"T_c9de8_row2_col0\" class=\"data row2 col0\" >3</td>\n",
       "      <td id=\"T_c9de8_row2_col1\" class=\"data row2 col1\" ><strong>Description</strong><br>[object]</td>\n",
       "      <td id=\"T_c9de8_row2_col2\" class=\"data row2 col2\" >1. WHITE HANGING HEART T-LIGHT HO<br>2. REGENCY CAKESTAND 3 TIER<br>3. JUMBO BAG RED RETROSPOT<br>4. PARTY BUNTING<br>5. LUNCH BAG RED RETROSPOT<br>6. ASSORTED COLOUR BIRD ORNAMENT<br>7. SET OF 3 CAKE TINS PANTRY DESI<br>8. nan<br>9. PACK OF 72 RETROSPOT CAKE CASE<br>10. LUNCH BAG  BLACK SKULL.<br>11. other</td>\n",
       "      <td id=\"T_c9de8_row2_col3\" class=\"data row2 col3\" >2,369 (0.4%)<br>2,200 (0.4%)<br>2,159 (0.4%)<br>1,727 (0.3%)<br>1,638 (0.3%)<br>1,501 (0.3%)<br>1,473 (0.3%)<br>1,454 (0.3%)<br>1,385 (0.3%)<br>1,350 (0.2%)<br>524,653 (96.8%)</td>\n",
       "      <td id=\"T_c9de8_row2_col4\" class=\"data row2 col4\" ><img src = \"data:image/png;base64, iVBORw0KGgoAAAANSUhEUgAAAJsAAAD+CAYAAAAtWHdlAAAAOXRFWHRTb2Z0d2FyZQBNYXRwbG90bGliIHZlcnNpb24zLjkuMiwgaHR0cHM6Ly9tYXRwbG90bGliLm9yZy8hTgPZAAAACXBIWXMAAA9hAAAPYQGoP6dpAAADoElEQVR4nO3cQWojVxhG0b+McNqTEkLgJSR78CJ6sb0ILSJ7MMY1iDueKIMEYtKdSaBvgXLOyGj0Bhc9SdTn5Xq9DhTu9j4A/x9iIyM2MmIjIzYyYiMjNjJiIyM2MsvMPMzMXK/Xt53Pwo07nM/nzzMzy7J8ERw/0t26rqd1XU8zc7/3YbhtPrORERsZsZERGxmxkREbGbGRERsZsZERGxmxkREbGbGRERsZsZERG5nDtm0vf/39vutJuHk2CGQW/zKLinc2MtZVZKyryPjpg4zYyIiNjNjIiI2M2MiIjYzYyIiNjNjIiI2M2MiIjYzYyIiNjMELGY+FkzF4IeOdjYzBCxmDFzJ++iAjNjJiIyM2MmIjIzYyYiMjNjJiIyM2MmIjIzYyYiMjNjJiI2PwQsZj4WQMXsj4zEZGbGTulmX5ZVmWT3sfhNt3NzM/z8xPex+E2+caJSM2MmIjIzYyYiMjNjJiIyM2MmIjIzYyYiMjNjJiIyM2MmIjczczv87M73sfhNtn8ELGNUpGbGQMXsgYvJBxjZIRGxmxkREbGbGRERsZsZERGxmxkREbGbGRERsZsZERGxmxkTF4IWPwQsY1SkZsZAxeyBi8kHGNkhEbGbGRERsZsZERGxmxkREbGbGRERsZsZERGxmxkREbGbGRERsZ6yoy1lVkXKNkxEbGuoqMdRUZ1ygZsZERGxmxkREbGbGRERsZsZERGxmxkREbGbGRERsZsZERGxmDFzIGL2Rco2TERsbghYzBCxnXKBmxkREbGbGRERsZsZERGxmxkREbGbGRERsZsZERGxmxkREbGYMXMgYvZFyjZMRGRmxkrKvIWFeRcY2SERsZsZERGxmxkREbGbGRERsZsZERGxmxkREbGbGRERsZsZGxriJjXUXGNUpGbGQMXsgYvJBxjZIRGxmxkREbGbGRERsZsZERGxmxkREbGbGRERsZsZERGxmxkTF4IWPwQsY1SmaZmYeZud/7INyc9+v1+vbxhcP5fP68rutprxNxm7Zte1mW5cvH4A7rup6enp7ejsfj1z0Px+14fX39dLlcTs/Pz/cz83dsMzPH4/Hr4+Pjb7udjlv08M8XfEEgIzYyYiMjNjJiIyM2MmIjIzYyYiMjNjJiIyM2MmIjc5j585GQvQ/C7fi3ng7btr1cLpfTfOeREPivtm17mZn3j695LJwf5ZvHwq2ryPiCQEZsZMRGRmxkxEZGbGTERkZsZMRG5g//Y5666t8WrwAAAABJRU5ErkJggg==\"></img></td>\n",
       "      <td id=\"T_c9de8_row2_col5\" class=\"data row2 col5\" >1,454<br>(0.3%)</td>\n",
       "    </tr>\n",
       "    <tr>\n",
       "      <td id=\"T_c9de8_row3_col0\" class=\"data row3 col0\" >4</td>\n",
       "      <td id=\"T_c9de8_row3_col1\" class=\"data row3 col1\" ><strong>Quantity</strong><br>[int64]</td>\n",
       "      <td id=\"T_c9de8_row3_col2\" class=\"data row3 col2\" >Mean (sd) : 9.6 (218.1)<br>min < med < max:<br>-80995.0 < 3.0 < 80995.0<br>IQR (CV) : 9.0 (0.0)</td>\n",
       "      <td id=\"T_c9de8_row3_col3\" class=\"data row3 col3\" >722 distinct values</td>\n",
       "      <td id=\"T_c9de8_row3_col4\" class=\"data row3 col4\" ><img src = \"data:image/png;base64, iVBORw0KGgoAAAANSUhEUgAAAKoAAABGCAYAAABc8A97AAAAOXRFWHRTb2Z0d2FyZQBNYXRwbG90bGliIHZlcnNpb24zLjkuMiwgaHR0cHM6Ly9tYXRwbG90bGliLm9yZy8hTgPZAAAACXBIWXMAAA9hAAAPYQGoP6dpAAABmklEQVR4nO3XMc4SURiF4XsN4pCYmQAJm3AH9LYu1kVQuBaIGQp/lAxjq4VRyCgcfJ725iRf8Ta3juNY4NG9uvcB8Cdm9z7gGdVaF6WU+Y3zb+M4vkx5zzMQ6sRqrYv1ev2hbdvlLfvj8fi51vpRrD8T6vTmbdsut9vtS9d1p2uGfd83u91ueTgc5qUUof5AqH9J13WnzWbz5YbpYvJjnoDPFBGESgShEkGoRBAqEYRKBKESQahEECoRhEoEoRJBqEQQKhGESgShEkGoRBAqEYRKBKESQahEECoRhEoEoRJBqEQQKhGESgShEkGoRBAqEYRKBKESQahEECoRhEoEoRJBqEQQKhGESgShEkGoRBAqEYRKBKESQahEECoRhEoEoRJBqEQQKhGESgShEkGoRBAqEYRKBKESQahEECoRhEoEoRJBqEQQKhGESoTZvQ94VLXWRSllfsO0vVwur6e+53/321BrrU0p5c0/uOWRNKvV6n3XdW+vHZ7P52YYhnf7/f7Ttdu+75thGGallLbWeu083ddxHE+/evwOR784r6MMGBcAAAAASUVORK5CYII=\"></img></td>\n",
       "      <td id=\"T_c9de8_row3_col5\" class=\"data row3 col5\" >0<br>(0.0%)</td>\n",
       "    </tr>\n",
       "    <tr>\n",
       "      <td id=\"T_c9de8_row4_col0\" class=\"data row4 col0\" >5</td>\n",
       "      <td id=\"T_c9de8_row4_col1\" class=\"data row4 col1\" ><strong>InvoiceDate</strong><br>[object]</td>\n",
       "      <td id=\"T_c9de8_row4_col2\" class=\"data row4 col2\" >1. 10/31/2011 14:41<br>2. 12/8/2011 9:28<br>3. 12/9/2011 10:03<br>4. 12/5/2011 17:24<br>5. 6/29/2011 15:58<br>6. 11/30/2011 15:13<br>7. 12/8/2011 9:20<br>8. 12/6/2010 16:57<br>9. 12/5/2011 17:28<br>10. 12/9/2010 14:09<br>11. other</td>\n",
       "      <td id=\"T_c9de8_row4_col3\" class=\"data row4 col3\" >1,114 (0.2%)<br>749 (0.1%)<br>731 (0.1%)<br>721 (0.1%)<br>705 (0.1%)<br>687 (0.1%)<br>676 (0.1%)<br>675 (0.1%)<br>662 (0.1%)<br>652 (0.1%)<br>534,537 (98.6%)</td>\n",
       "      <td id=\"T_c9de8_row4_col4\" class=\"data row4 col4\" ><img src = \"data:image/png;base64, iVBORw0KGgoAAAANSUhEUgAAAJsAAAD+CAYAAAAtWHdlAAAAOXRFWHRTb2Z0d2FyZQBNYXRwbG90bGliIHZlcnNpb24zLjkuMiwgaHR0cHM6Ly9tYXRwbG90bGliLm9yZy8hTgPZAAAACXBIWXMAAA9hAAAPYQGoP6dpAAADXElEQVR4nO3cwWkbYRRG0TdGOPZGQhhcQtKDi0ixKUJFpAdjPIvY8WaySBYpINwB5ZwK/sWFh2A+Ldu2DRRu9n4A/w+xkREbGbGRERsZsZERGxmxkREbGbGRuVmW5cuyLHd7P4TrdzMzn2fm094P4fo5o2TERkZsZMRGRmxkxEZGbGTERkZsZMRGRmxkxEZGbGTERkZsZMRG5mZmvs/Mz70fwvVb/IsRFWeUjNjIWFeRsa4i44ySERsZsZERGxmxkREbGbGRERsZsZERGxmxkREbGbGRERsZsZExeCFj8ELGGSUjNjIGL2QMXsg4o2TERkZsZMRGRmxkxEZGbGTERkZsZMRGRmxkxEZGbGTERkZsZAxeyBi8kHFGyYiNjNjIWFeRsa4i44ySERsZsZERGxmxkREbGbGRERsZsZERGxmxkREbGbGRERsZsZGxriJjXUXGGSUjNjIGL2QMXsg4o2TERkZsZMRGRmxkxEZGbGTERkZsZMRGRmxkxEZGbGTERkZsZAxeyBi8kHFGyYiNjMELGYMXMs4oGbGRERsZsZERGxmxkREbGbGRERsZsZERGxmxkREbGbGRERsZsZGxriJjXUXGGSUjNjLWVWSsq8g4o2TERkZsZMRGRmxkxEZGbGTERkZsZMRGRmxkxEZGbGTERkZsZAxeyBi8kHFGyYiNjMELGYMXMs4oGbGRERsZsZERGxmxkREbGbGRERsZsZERGxmxkREbGbGRERsZgxcyBi9knFEyYiMjNjLWVWSsq8g4o2TERkZsZMRGRmxkxEZGbGTERkZsZMRGRmxkxEZGbGTERkZsZKyryFhXkXFGyYiNjMELGYMXMs4oGbGRERsZsZERGxmxkREbGbGRERsZsZERGxmxkREbGbGRERsZgxcyBi9knFEyy8zcz8zt3g/hqn1s2/Z2eHh4+Ho8Hs97v4brta7ry7Is3w7H4/H89PT0djqd3vd+FNfn9fX17nK5nJ+fn28PMzOn0+n98fHxx94P42rdz/iBQEhsZMRGRmxkxEZGbGTERkZsZMRGRmxkxEZGbGTERuYw8/szkL0fwnX6u63Duq4vl8vlPH8+A4F/bV3Xl5n58Fk4hY9t296sq8j4gUBGbGTERkZsZMRGRmxkxEZGbGTERuYXwgdpOf758ysAAAAASUVORK5CYII=\"></img></td>\n",
       "      <td id=\"T_c9de8_row4_col5\" class=\"data row4 col5\" >0<br>(0.0%)</td>\n",
       "    </tr>\n",
       "    <tr>\n",
       "      <td id=\"T_c9de8_row5_col0\" class=\"data row5 col0\" >6</td>\n",
       "      <td id=\"T_c9de8_row5_col1\" class=\"data row5 col1\" ><strong>UnitPrice</strong><br>[float64]</td>\n",
       "      <td id=\"T_c9de8_row5_col2\" class=\"data row5 col2\" >Mean (sd) : 4.6 (96.8)<br>min < med < max:<br>-11062.1 < 2.1 < 38970.0<br>IQR (CV) : 2.9 (0.0)</td>\n",
       "      <td id=\"T_c9de8_row5_col3\" class=\"data row5 col3\" >1,630 distinct values</td>\n",
       "      <td id=\"T_c9de8_row5_col4\" class=\"data row5 col4\" ><img src = \"data:image/png;base64, iVBORw0KGgoAAAANSUhEUgAAAKoAAABGCAYAAABc8A97AAAAOXRFWHRTb2Z0d2FyZQBNYXRwbG90bGliIHZlcnNpb24zLjkuMiwgaHR0cHM6Ly9tYXRwbG90bGliLm9yZy8hTgPZAAAACXBIWXMAAA9hAAAPYQGoP6dpAAABe0lEQVR4nO3XQYpaQRSF4VtBjE7eQwQX4yKy2CzC3UhTDtImoJV5oJO0dLee5vum9S6cwT95bYxR8Oi+3HsA/I/FvQf8TWttXVXLG89/jTGe33IP9/OwobbW1tvt9ts0TZtb7k+n01Nr7btYP4eHDbWqltM0bfb7/fM8z+fXHPbeV4fDYXM8HpdVJdRP4JFDraqqeZ7Pu93uxw2n6zcfw934mSKCUIkgVCIIlQhCJYJQiSBUIgiVCEIlglCJIFQiCJUIQiWCUIkgVCIIlQhCJYJQiSBUIgiVCEIlglCJIFQiCJUIQiWCUIkgVCIIlQhCJYJQiSBUIgiVCEIlglCJIFQiCJUIQiWCUIkgVCIIlQhCJYJQiSBUIgiVCEIlglCJIFQiCJUIQiWCUIkgVCIIlQhCJYJQiSBUIgiVCEIlglCJIFQiCJUIQiWCUIkgVCIs/vVBa21VVV8/YMufpuv1uui9r1572HtfXS6XRVVNrbV3mMY7+DnGOL/0+Bu/YzEQ4+1B1gAAAABJRU5ErkJggg==\"></img></td>\n",
       "      <td id=\"T_c9de8_row5_col5\" class=\"data row5 col5\" >0<br>(0.0%)</td>\n",
       "    </tr>\n",
       "    <tr>\n",
       "      <td id=\"T_c9de8_row6_col0\" class=\"data row6 col0\" >7</td>\n",
       "      <td id=\"T_c9de8_row6_col1\" class=\"data row6 col1\" ><strong>CustomerID</strong><br>[float64]</td>\n",
       "      <td id=\"T_c9de8_row6_col2\" class=\"data row6 col2\" >Mean (sd) : 15287.7 (1713.6)<br>min < med < max:<br>12346.0 < 15152.0 < 18287.0<br>IQR (CV) : 2838.0 (8.9)</td>\n",
       "      <td id=\"T_c9de8_row6_col3\" class=\"data row6 col3\" >4,372 distinct values</td>\n",
       "      <td id=\"T_c9de8_row6_col4\" class=\"data row6 col4\" ><img src = \"data:image/png;base64, iVBORw0KGgoAAAANSUhEUgAAAKoAAABGCAYAAABc8A97AAAAOXRFWHRTb2Z0d2FyZQBNYXRwbG90bGliIHZlcnNpb24zLjkuMiwgaHR0cHM6Ly9tYXRwbG90bGliLm9yZy8hTgPZAAAACXBIWXMAAA9hAAAPYQGoP6dpAAACp0lEQVR4nO3dQW7aQBiG4X9KEpkg2SJBsOMCkbqIxCYH6LKH7REaKYuucwN2SAgZ4cbCMfQAVQF7PLU/8z77Act+nfGME8Udj0cDuu5L2wcAXOKm7QMIxTk3NLM7j4/YH4/Hj6aOB356Gapzbvj4+Pg9juNx3c/Ybrcb59wPYu2GXoZqZndxHI9fXl4+kiTJqw5O0zR6e3sbr9frOzMj1A7oa6hmZpYkST6dTn/XHD5s9GDghcUUJBAqJBAqJPT6GdVHWZa3ZhY75+oMZ2urYWdD9dyPlLxgWZbdFkXxdT6fDwaDQeVdA7a2mncyVN/9SNULtt/vb6Ioun9+fs5ns9mmyli2tsI49xO19n5kHy7YaDSqu711lVtbIWffi55RPfYjr/KCXaPQsy+LKTQl6OxLqD3T9uI31OxLqD3S58UvofaL1/T7+vo6Xa/XE+fctsZ3x4fD4bbGuIt0OlSPaSzoSTun7ZcFdaZf373joiiisiyf8jz/aWZ1fxHon4KG6nnBooeHh29JkoyqDgx90k5RfVngs3dsZrZcLsfv7+/3n5+fgxDHFyzUJu5QM3taLBa/JpNJpako9Ek7Rf1lQd29481mE3QrMlioTd2hURQVVU9c6JN2CV4WNCv4M2pX71Bo6fRi6hp5Pte3uogMiVA7pOsr7zYRaod0feXdJkLtIJ7r/8afokACoUICoUICoUICoUICoUICoUICoUICoUICoUICoUICoUICoUICoUICoUICoUICoUICoUICoUICoUICoUICoUICoUICoUICoUICoUICoUICoUICoUICoUICoUICoUICoUICoUICoUICoUICoUICoUICoUICoUICoUICoULCRf9iMk3TqOoH73a7yMwsy7JotVrd/8/xqt+tety+4y/p6w8/g6t1yVYy7AAAAABJRU5ErkJggg==\"></img></td>\n",
       "      <td id=\"T_c9de8_row6_col5\" class=\"data row6 col5\" >135,080<br>(24.9%)</td>\n",
       "    </tr>\n",
       "    <tr>\n",
       "      <td id=\"T_c9de8_row7_col0\" class=\"data row7 col0\" >8</td>\n",
       "      <td id=\"T_c9de8_row7_col1\" class=\"data row7 col1\" ><strong>Country</strong><br>[object]</td>\n",
       "      <td id=\"T_c9de8_row7_col2\" class=\"data row7 col2\" >1. United Kingdom<br>2. Germany<br>3. France<br>4. EIRE<br>5. Spain<br>6. Netherlands<br>7. Belgium<br>8. Switzerland<br>9. Portugal<br>10. Australia<br>11. other</td>\n",
       "      <td id=\"T_c9de8_row7_col3\" class=\"data row7 col3\" >495,478 (91.4%)<br>9,495 (1.8%)<br>8,557 (1.6%)<br>8,196 (1.5%)<br>2,533 (0.5%)<br>2,371 (0.4%)<br>2,069 (0.4%)<br>2,002 (0.4%)<br>1,519 (0.3%)<br>1,259 (0.2%)<br>8,430 (1.6%)</td>\n",
       "      <td id=\"T_c9de8_row7_col4\" class=\"data row7 col4\" ><img src = \"data:image/png;base64, iVBORw0KGgoAAAANSUhEUgAAAJsAAAD+CAYAAAAtWHdlAAAAOXRFWHRTb2Z0d2FyZQBNYXRwbG90bGliIHZlcnNpb24zLjkuMiwgaHR0cHM6Ly9tYXRwbG90bGliLm9yZy8hTgPZAAAACXBIWXMAAA9hAAAPYQGoP6dpAAAELElEQVR4nO3dPW4bZxhG0ZeEYEfNCAQBLyHptAAtwov1IrQAldmDIXiK0HajFP6Bk8oSMJcwfU6ngsBXXAw1g3mk3dPT00Bhf+4D8PsQGxmxkREbGbGRERsZsZERGxmxkdnNzPXMvDr3QfjlfH56ejo95wNXx+Px7bIsh61OxGVa1/Vxt9u9e05wV8uyHO7u7k43Nzcftzwcl+PDhw9/3N/fH96/f/9qZn4+tpmZm5ubj2/evPlns9Nxia6f+wE3CGTERkZsZMRGRmxkxEZGbGTERkZsZMRGRmxkxEZGbGTERuZq5sv7Sec+CL+Ol/Zyta7r4/39/WFe8H4Sv691XR9n5vNzPmODwEs9e4Ow8yezqPz/yvbsWuFn/Wdd9ZLFDPys/bd11d3d3elrdH5/YxPf11Vff3ZHymY81CUjNjJiIyM2MmIjIzYyYiMjNjJiIyM2MmIjIzYyYiNj8ELmx8HLi0YM8LO8Fk7G4IXMj1c2VzU29X3wYuzC1vbLshxub2/H2IWt7Wdmrq+vP537IFw+D3XJiI2M2MiIjYzYyIiNjNjIiI2M2MiIjYzYyIiNjNjI7GdmTqfT63MfhMu3X9f18eHhwdiFzXktnIzBCxk3CGR8jZKxriJjXUXGuoqMGwQyYiMjNjJiIyM2MmIjIzYyYiMjNjJiIyM2MmIjIzYy1lVkrKvIeC2cjHUVmW9XtnFVY2tXx+Px7cyMsQtb2y/LcjB2oeA5GxmxkREbGbGRERsZsZERGxmxkREbGbGRERsZsZERGxmxkREbmauvQ5cZYxc25rVwMgYvZFzZyBi8kDF4IePRBxmxkREbGbGRERsZsZERGxmxkREbGbGRERsZsZERGxmxkREbGbGRsa4iY4NAxrqKjCsbGesqMtZVZDz6ICM2MmIjIzYyYiMjNjJiIyM2MmIjIzYyYiMjNjJiIyM2MmIjY/BCxmvhZAxeyLiykTF4IWPwQsajDzJiIyM2MmIjIzYyYiMjNjJiIyM2MmIjIzYyYiMjNjJiIyM2MgYvZLwWTsbghYzf2ciIjcx+t9v9tdvt/jj3Qbh8+5n5c2Zen/sgXD5fo2TERkZsZMRGRmxkxEZGbGTERkZsZMRGRmxkxEZGbGTERkZsZPYz8/fMfDr3Qbh8Bi9kfI2SERsZgxcyBi9kfI2SERsZsZERGxmxkREbGbGRERsZsZERGxmxkREbGbGRERsZsZExeCFj8ELG1yiZb/8o7dXMfPbP0tjS1fF4fLssy2Fd18fdbvdOcGxlvyzL4fb2dpZlOcyXKxxsYj8zc3197W6UzblBICM2MmIjIzYyYiMjNjJiIyM2MmIjIzYyYiMjNjJiI7OfmTmdTv6mLpvbr+v6+PDwMOu6Ps7M53MfiMvltXAy1lVk3CCQERsZsZERGxmxkREbGbGRERsZsZH5F1UQNYuha3IDAAAAAElFTkSuQmCC\"></img></td>\n",
       "      <td id=\"T_c9de8_row7_col5\" class=\"data row7 col5\" >0<br>(0.0%)</td>\n",
       "    </tr>\n",
       "  </tbody>\n",
       "</table>\n"
      ],
      "text/plain": [
       "<pandas.io.formats.style.Styler at 0x1426357e120>"
      ]
     },
     "execution_count": 13,
     "metadata": {},
     "output_type": "execute_result"
    }
   ],
   "source": [
    "from summarytools import dfSummary\n",
    "dfSummary(df)"
   ]
  },
  {
   "cell_type": "markdown",
   "metadata": {},
   "source": [
    "Análise do Dataset\n",
    "\n",
    "Valores Faltantes: O dataset possui poucos valores faltantes, indicando boa qualidade de dados.\n",
    "\n",
    "InvoiceNo: Esta variável parece ser a chave identificadora, porém há duplicatas que precisam ser tratadas para garantir a unicidade.\n",
    "\n",
    "StockCode: Este campo tem uma grande diversidade de valores. Vamos analisar a distribuição posteriormente.\n",
    "\n",
    "Description: Seria interessante rodar um modelo de linguagem para classificar o texto em categorias distintas para complementar as análises.\n",
    "\n",
    "Quantity: Não apresenta valores nulos e possui 772 valores distintos. A média é 9.6, mas há valores negativos que precisam ser tratados, pois não fazem sentido.\n",
    "\n",
    "InvoiceDate: As datas estão no formato mês/dia/ano e precisam ser convertidas para DateTime para análises temporais.\n",
    "\n",
    "UnitPrice: Não há valores nulos, mas há valores negativos que precisam ser revisados. A média é 4.6.\n",
    "\n",
    "CustomerID: Há mais de 4.000 valores distintos, o que é relevante para identificação. Pode ser interessante analisar duplicatas e a distribuição.\n",
    "\n",
    "Country: 91% dos dados são do Reino Unido. Se o objetivo é global, será importante considerar essa concentração."
   ]
  },
  {
   "cell_type": "markdown",
   "metadata": {},
   "source": [
    "3. Visualize as distribuições e identifique a relevância das colunas para a análise;"
   ]
  },
  {
   "cell_type": "code",
   "execution_count": null,
   "metadata": {},
   "outputs": [],
   "source": []
  },
  {
   "cell_type": "markdown",
   "metadata": {},
   "source": [
    "4. Verifique a presença de dados nulos, duplicados, outliers e demais inconsistências nos dados."
   ]
  },
  {
   "cell_type": "code",
   "execution_count": null,
   "metadata": {},
   "outputs": [],
   "source": []
  },
  {
   "cell_type": "markdown",
   "metadata": {},
   "source": [
    "Dica: certifique-se de que os dados estejam no formato ideal para as análises; por mais que os códigos de identificação sejam numéricos, sua análise não pode considerá-los como grandezas numéricas."
   ]
  },
  {
   "cell_type": "markdown",
   "metadata": {},
   "source": [
    "## Etapa 02) Pré-processamento dos dados"
   ]
  },
  {
   "cell_type": "markdown",
   "metadata": {},
   "source": [
    "1. Realize a normalização dos dados"
   ]
  },
  {
   "cell_type": "code",
   "execution_count": null,
   "metadata": {},
   "outputs": [],
   "source": []
  },
  {
   "cell_type": "markdown",
   "metadata": {},
   "source": [
    "2. Faça uma seleção das variáveis mais relevantes para o modelo;"
   ]
  },
  {
   "cell_type": "code",
   "execution_count": null,
   "metadata": {},
   "outputs": [],
   "source": []
  },
  {
   "cell_type": "markdown",
   "metadata": {},
   "source": [
    "3. Remova os dados nulos, duplicados, outliers e inconsistentes"
   ]
  },
  {
   "cell_type": "code",
   "execution_count": null,
   "metadata": {},
   "outputs": [],
   "source": []
  },
  {
   "cell_type": "markdown",
   "metadata": {},
   "source": [
    "## Etapa 03) Selecione um algoritmo de clusterização"
   ]
  },
  {
   "cell_type": "markdown",
   "metadata": {},
   "source": [
    "1. Escolha um algoritmo adequado para base de dados, como o K0Means, DBSCAN, Hierarquia ou Mean Shift"
   ]
  },
  {
   "cell_type": "code",
   "execution_count": null,
   "metadata": {},
   "outputs": [],
   "source": []
  },
  {
   "cell_type": "markdown",
   "metadata": {},
   "source": [
    "2. Encontre a quantidade ideal de clusters através dos métodos de Elbow ou Silhouette Score"
   ]
  },
  {
   "cell_type": "code",
   "execution_count": null,
   "metadata": {},
   "outputs": [],
   "source": []
  },
  {
   "cell_type": "markdown",
   "metadata": {},
   "source": [
    "3. Implemente o algoritmo escolhido"
   ]
  },
  {
   "cell_type": "code",
   "execution_count": null,
   "metadata": {},
   "outputs": [],
   "source": []
  },
  {
   "cell_type": "markdown",
   "metadata": {},
   "source": [
    "## Etapa 04) Analise os clusters obtidos"
   ]
  },
  {
   "cell_type": "markdown",
   "metadata": {},
   "source": [
    "1. Identifique os padrões e características em comum entre os clientes"
   ]
  },
  {
   "cell_type": "code",
   "execution_count": null,
   "metadata": {},
   "outputs": [],
   "source": []
  },
  {
   "cell_type": "markdown",
   "metadata": {},
   "source": [
    "2. Plote gráficos para auxiliar na análise"
   ]
  },
  {
   "cell_type": "code",
   "execution_count": null,
   "metadata": {},
   "outputs": [],
   "source": []
  },
  {
   "cell_type": "markdown",
   "metadata": {},
   "source": [
    "## Etapa 05) Interpretação dos resultados obtidos"
   ]
  },
  {
   "cell_type": "markdown",
   "metadata": {},
   "source": [
    "1. Descreva o perfil de compras dos clientes de cada cluster"
   ]
  },
  {
   "cell_type": "code",
   "execution_count": null,
   "metadata": {},
   "outputs": [],
   "source": []
  },
  {
   "cell_type": "markdown",
   "metadata": {},
   "source": [
    "2. Justifique como essa análise pode ser útil para empresa para segmentação de seus clientes e personalização das campanhas de marketing"
   ]
  },
  {
   "cell_type": "code",
   "execution_count": null,
   "metadata": {},
   "outputs": [],
   "source": []
  },
  {
   "cell_type": "markdown",
   "metadata": {},
   "source": [
    "3. Sugira ações possíveis com base nas ações realizadas"
   ]
  },
  {
   "cell_type": "code",
   "execution_count": null,
   "metadata": {},
   "outputs": [],
   "source": []
  },
  {
   "cell_type": "markdown",
   "metadata": {},
   "source": [
    "# 📝 Critérios de Avaliação"
   ]
  },
  {
   "cell_type": "markdown",
   "metadata": {},
   "source": [
    "Os critérios de avaliação mostram como você será avaliado em relação ao seu desafio. "
   ]
  },
  {
   "cell_type": "markdown",
   "metadata": {},
   "source": [
    "| Critérios                           | Atendeu às Especificações                                                                                       | Pontos |\n",
    "|-------------------------------------|-----------------------------------------------------------------------------------------------------------------|--------|\n",
    "| Qualidade da análise exploratória   | Carregue os dados e verifique a presença de dados nulos, duplicados, outliers e demais inconsistências nos dados.| 20     |\n",
    "| Pré-processamento dos Dados         | Faça uma seleção das variáveis mais relevantes do modelo, removendo os dados nulos, outliers e inconsistentes.   | 20     |\n",
    "| Qualidade da análise dos clusters   | Identifique os padrões e características em comum entre os clientes.                                             | 20     |\n",
    "| Interpretação dos Resultados Obtidos| Descreva o perfil de compras para cada cluster de clientes, justifique a utilidade dessa análise para a segmentação e personalização das campanhas de marketing da empresa, e sugira ações de marketing baseadas nos insights obtidos. | 20     |\n"
   ]
  },
  {
   "cell_type": "markdown",
   "metadata": {},
   "source": [
    "# 📆 Entrega"
   ]
  },
  {
   "cell_type": "markdown",
   "metadata": {},
   "source": [
    "Atente-se a forma de nomear o arquivo: ele deve contar com o seu RID. Exemplo: (RID01234_Desafio07). O RID pode ser encontrado dentro da sua plataforma em \"meu perfil” e é composto por 5 números. "
   ]
  },
  {
   "cell_type": "markdown",
   "metadata": {},
   "source": [
    "### Atente-se ao formato de entrega deste desafio!\n",
    "\n",
    "1. Nomeie o seu colab com o RID e o número do desafio. Exemplo: RID1234_Desafio01\n",
    "2. Vá em Arquivo > Fazer download > Baixar o .ipynb\n",
    "3. Faça o upload do arquivo no drive\n",
    "4. Altere as configurações do arquivo para deixá-lo público. \n",
    "5. Copie o link após alterar a permissão de acesso.\n",
    "6. Submeta o link do arquivo (e não da pasta do drive!) na plataforma."
   ]
  },
  {
   "cell_type": "markdown",
   "metadata": {},
   "source": [
    "Dica: Evite sequências longas de código sem explicação do que está sendo realizado. Pense que essa documentação está sendo apresentada para o cliente final, seu modelo não pode ser uma “caixa preta”."
   ]
  }
 ],
 "metadata": {
  "kernelspec": {
   "display_name": "base",
   "language": "python",
   "name": "python3"
  },
  "language_info": {
   "codemirror_mode": {
    "name": "ipython",
    "version": 3
   },
   "file_extension": ".py",
   "mimetype": "text/x-python",
   "name": "python",
   "nbconvert_exporter": "python",
   "pygments_lexer": "ipython3",
   "version": "3.12.7"
  }
 },
 "nbformat": 4,
 "nbformat_minor": 2
}
