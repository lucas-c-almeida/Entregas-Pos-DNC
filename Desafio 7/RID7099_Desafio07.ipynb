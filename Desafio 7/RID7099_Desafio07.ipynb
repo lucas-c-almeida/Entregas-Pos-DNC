{
 "cells": [
  {
   "cell_type": "markdown",
   "metadata": {},
   "source": [
    "# Desafio: Crie um modelo de análise das métricas RFV"
   ]
  },
  {
   "cell_type": "markdown",
   "metadata": {},
   "source": [
    "- [**Python Graph Gallery**](https://www.python-graph-gallery.com/): repositório com o passo a passo de como gerar gráficos utilizando as principais bibliotecas de Python\n",
    "- [**SciKit Learn](https://scikit-learn.org/stable/modules/clustering.html#clustering):** documentação com os principais modelos utilizados para clusterização\n",
    "- [**ChatGPT](https://chat.openai.com/):** Pode ser útil para iniciar sua pesquisa!"
   ]
  },
  {
   "cell_type": "markdown",
   "metadata": {},
   "source": [
    "### Elabore um modelo de Clustering\n",
    "Você deverá utilizar um modelo de Clustering para criar um sistema de agrupamento de perfis de clientes para um e-commerce. Deverá analisar o modelo mais eficiente, capaz de tornar as análises mais simplificadas para a empresa."
   ]
  },
  {
   "cell_type": "markdown",
   "metadata": {},
   "source": [
    "### 🚨 Atente-se ao formato de entrega deste desafio!\n",
    "\n",
    "1. Nomeie o seu colab com o RID e o número do desafio. Exemplo: RID1234_Desafio01\n",
    "2. Vá em Arquivo > Fazer download > Baixar o .ipynb\n",
    "3. Faça o upload do arquivo no drive\n",
    "4. Altere as configurações do arquivo para deixá-lo público. \n",
    "5. Copie o link após alterar a permissão de acesso.\n",
    "6. Submeta o link do arquivo (e não da pasta do drive!) na plataforma."
   ]
  },
  {
   "cell_type": "markdown",
   "metadata": {},
   "source": [
    "## Contexto"
   ]
  },
  {
   "cell_type": "markdown",
   "metadata": {},
   "source": [
    "Você foi contratado por uma empresa de e-commerce que está buscando entender melhor o comportamento de seus clientes para personalizar as suas campanhas de marketing. Para isso, a empresa disponibilizou uma base de dados em csv contendo dados sobre clientes, produtos e transações da loja realizadas entre os anos de 2010 e 2011.\n",
    "\n",
    "Com base nesses dados, você precisa agrupar os clientes em clusters com base em seu comportamento de compra. Isso irá permitir identificar padrões e características em comum entre os clientes, como:\n",
    "\n",
    "- Clientes que compram os mesmos produtos;\n",
    "- Clientes que possuem a mesma frequência de compras;\n",
    "- Clientes que gastam mais dinheiro em suas compras.\n",
    "\n",
    "A partir desses clusters, gere insights para que a empresa possa segmentar melhor a sua base de clientes e personalizar as suas campanhas de marketing, direcionando promoções e ofertas aos clientes com base no comportamento de compras."
   ]
  },
  {
   "cell_type": "markdown",
   "metadata": {},
   "source": [
    "### Sobre os dados"
   ]
  },
  {
   "cell_type": "markdown",
   "metadata": {},
   "source": [
    "Acesse os dados aqui: https://www.kaggle.com/datasets/carrie1/ecommerce-data\n",
    "\n",
    "Os dados fornecidos possuem informações de transações de compras de uma loja de e-commerce em 38 países e territórios, com mais de 4.000 clientes únicos e mais de 540.000 transações.\n",
    "\n",
    "Atenção: as datas estão no formato MM/DD/YYYY HH:mm:ss; existem dados nulos que precisam ser tratados antes da realização da análise; por mais que os códigos de identificação sejam numéricos, o modelo não pode considerá-los como grandezas numéricas."
   ]
  },
  {
   "cell_type": "markdown",
   "metadata": {},
   "source": [
    "| Coluna      | Descrição                        | Tipo     |\n",
    "|-------------|----------------------------------|----------|\n",
    "| InvoiceNo   | Identificação da transação       | Int      |\n",
    "| StockCode   | Código de estoque do produto     | String   |\n",
    "| Description | Descrição do produto             | String   |\n",
    "| Quantity    | Quantidade de produtos por transação | Int      |\n",
    "| InvoiceDate | Data da transação                | Datetime |\n",
    "| UnitPrice   | Preço unitário do produto        | Float    |\n",
    "| CustomerID  | Identificação do cliente         | Int      |\n",
    "| Country     | País de origem da transação      | String   |\n"
   ]
  },
  {
   "cell_type": "markdown",
   "metadata": {},
   "source": [
    "## Como começar?"
   ]
  },
  {
   "cell_type": "markdown",
   "metadata": {},
   "source": [
    "Desenvolva um modelo de clusterização que seja capaz de agrupar os clientes conforme o seu comportamento de compras levando em consideração o RFM calculado no desafio 4.\n",
    "\n",
    "Analise os clusters obtidos para identificar o perfil de cliente, como padrões e características em comum para determinar o seu comportamento de compra. Utilize gráficos e visualizações para auxiliar na análise.\n",
    "\n",
    "Não se esqueça de documentar cada etapa, justificando as escolhas realizadas. É essencial informar os insights obtidos e as recomendações de ações futuras para que a empresa possa colocá-los em prática. Boa sorte!"
   ]
  },
  {
   "cell_type": "markdown",
   "metadata": {},
   "source": [
    "# 🎯 Etapas de Desenvolvimento"
   ]
  },
  {
   "cell_type": "markdown",
   "metadata": {},
   "source": [
    "## **Etapa 01) Análise exploratória dos dados**"
   ]
  },
  {
   "cell_type": "markdown",
   "metadata": {},
   "source": [
    "1. Carregue a base de dados;"
   ]
  },
  {
   "cell_type": "code",
   "execution_count": null,
   "metadata": {},
   "outputs": [],
   "source": [
    "!pip install kagglehub"
   ]
  },
  {
   "cell_type": "code",
   "execution_count": 11,
   "metadata": {},
   "outputs": [],
   "source": [
    "import kagglehub\n",
    "import pandas as pd\n",
    "import os\n",
    "\n",
    "path = kagglehub.dataset_download(\"carrie1/ecommerce-data\")\n",
    "df = pd.read_csv(os.path.join(path, 'data.csv'), encoding='ISO-8859-1')"
   ]
  },
  {
   "cell_type": "markdown",
   "metadata": {},
   "source": [
    "2. Realize uma descrição estatística dos dados;"
   ]
  },
  {
   "cell_type": "code",
   "execution_count": null,
   "metadata": {},
   "outputs": [],
   "source": []
  },
  {
   "cell_type": "markdown",
   "metadata": {},
   "source": [
    "3. Visualize as distribuições e identifique a relevância das colunas para a análise;"
   ]
  },
  {
   "cell_type": "code",
   "execution_count": null,
   "metadata": {},
   "outputs": [],
   "source": []
  },
  {
   "cell_type": "markdown",
   "metadata": {},
   "source": [
    "4. Verifique a presença de dados nulos, duplicados, outliers e demais inconsistências nos dados."
   ]
  },
  {
   "cell_type": "code",
   "execution_count": null,
   "metadata": {},
   "outputs": [],
   "source": []
  },
  {
   "cell_type": "markdown",
   "metadata": {},
   "source": [
    "Dica: certifique-se de que os dados estejam no formato ideal para as análises; por mais que os códigos de identificação sejam numéricos, sua análise não pode considerá-los como grandezas numéricas."
   ]
  },
  {
   "cell_type": "markdown",
   "metadata": {},
   "source": [
    "## Etapa 02) Pré-processamento dos dados"
   ]
  },
  {
   "cell_type": "markdown",
   "metadata": {},
   "source": [
    "1. Realize a normalização dos dados"
   ]
  },
  {
   "cell_type": "code",
   "execution_count": null,
   "metadata": {},
   "outputs": [],
   "source": []
  },
  {
   "cell_type": "markdown",
   "metadata": {},
   "source": [
    "2. Faça uma seleção das variáveis mais relevantes para o modelo;"
   ]
  },
  {
   "cell_type": "code",
   "execution_count": null,
   "metadata": {},
   "outputs": [],
   "source": []
  },
  {
   "cell_type": "markdown",
   "metadata": {},
   "source": [
    "3. Remova os dados nulos, duplicados, outliers e inconsistentes"
   ]
  },
  {
   "cell_type": "code",
   "execution_count": null,
   "metadata": {},
   "outputs": [],
   "source": []
  },
  {
   "cell_type": "markdown",
   "metadata": {},
   "source": [
    "## Etapa 03) Selecione um algoritmo de clusterização"
   ]
  },
  {
   "cell_type": "markdown",
   "metadata": {},
   "source": [
    "1. Escolha um algoritmo adequado para base de dados, como o K0Means, DBSCAN, Hierarquia ou Mean Shift"
   ]
  },
  {
   "cell_type": "code",
   "execution_count": null,
   "metadata": {},
   "outputs": [],
   "source": []
  },
  {
   "cell_type": "markdown",
   "metadata": {},
   "source": [
    "2. Encontre a quantidade ideal de clusters através dos métodos de Elbow ou Silhouette Score"
   ]
  },
  {
   "cell_type": "code",
   "execution_count": null,
   "metadata": {},
   "outputs": [],
   "source": []
  },
  {
   "cell_type": "markdown",
   "metadata": {},
   "source": [
    "3. Implemente o algoritmo escolhido"
   ]
  },
  {
   "cell_type": "code",
   "execution_count": null,
   "metadata": {},
   "outputs": [],
   "source": []
  },
  {
   "cell_type": "markdown",
   "metadata": {},
   "source": [
    "## Etapa 04) Analise os clusters obtidos"
   ]
  },
  {
   "cell_type": "markdown",
   "metadata": {},
   "source": [
    "1. Identifique os padrões e características em comum entre os clientes"
   ]
  },
  {
   "cell_type": "code",
   "execution_count": null,
   "metadata": {},
   "outputs": [],
   "source": []
  },
  {
   "cell_type": "markdown",
   "metadata": {},
   "source": [
    "2. Plote gráficos para auxiliar na análise"
   ]
  },
  {
   "cell_type": "code",
   "execution_count": null,
   "metadata": {},
   "outputs": [],
   "source": []
  },
  {
   "cell_type": "markdown",
   "metadata": {},
   "source": [
    "## Etapa 05) Interpretação dos resultados obtidos"
   ]
  },
  {
   "cell_type": "markdown",
   "metadata": {},
   "source": [
    "1. Descreva o perfil de compras dos clientes de cada cluster"
   ]
  },
  {
   "cell_type": "code",
   "execution_count": null,
   "metadata": {},
   "outputs": [],
   "source": []
  },
  {
   "cell_type": "markdown",
   "metadata": {},
   "source": [
    "2. Justifique como essa análise pode ser útil para empresa para segmentação de seus clientes e personalização das campanhas de marketing"
   ]
  },
  {
   "cell_type": "code",
   "execution_count": null,
   "metadata": {},
   "outputs": [],
   "source": []
  },
  {
   "cell_type": "markdown",
   "metadata": {},
   "source": [
    "3. Sugira ações possíveis com base nas ações realizadas"
   ]
  },
  {
   "cell_type": "code",
   "execution_count": null,
   "metadata": {},
   "outputs": [],
   "source": []
  },
  {
   "cell_type": "markdown",
   "metadata": {},
   "source": [
    "# 📝 Critérios de Avaliação"
   ]
  },
  {
   "cell_type": "markdown",
   "metadata": {},
   "source": [
    "Os critérios de avaliação mostram como você será avaliado em relação ao seu desafio. "
   ]
  },
  {
   "cell_type": "markdown",
   "metadata": {},
   "source": [
    "| Critérios                           | Atendeu às Especificações                                                                                       | Pontos |\n",
    "|-------------------------------------|-----------------------------------------------------------------------------------------------------------------|--------|\n",
    "| Qualidade da análise exploratória   | Carregue os dados e verifique a presença de dados nulos, duplicados, outliers e demais inconsistências nos dados.| 20     |\n",
    "| Pré-processamento dos Dados         | Faça uma seleção das variáveis mais relevantes do modelo, removendo os dados nulos, outliers e inconsistentes.   | 20     |\n",
    "| Qualidade da análise dos clusters   | Identifique os padrões e características em comum entre os clientes.                                             | 20     |\n",
    "| Interpretação dos Resultados Obtidos| Descreva o perfil de compras para cada cluster de clientes, justifique a utilidade dessa análise para a segmentação e personalização das campanhas de marketing da empresa, e sugira ações de marketing baseadas nos insights obtidos. | 20     |\n"
   ]
  },
  {
   "cell_type": "markdown",
   "metadata": {},
   "source": [
    "# 📆 Entrega"
   ]
  },
  {
   "cell_type": "markdown",
   "metadata": {},
   "source": [
    "Atente-se a forma de nomear o arquivo: ele deve contar com o seu RID. Exemplo: (RID01234_Desafio07). O RID pode ser encontrado dentro da sua plataforma em \"meu perfil” e é composto por 5 números. "
   ]
  },
  {
   "cell_type": "markdown",
   "metadata": {},
   "source": [
    "### Atente-se ao formato de entrega deste desafio!\n",
    "\n",
    "1. Nomeie o seu colab com o RID e o número do desafio. Exemplo: RID1234_Desafio01\n",
    "2. Vá em Arquivo > Fazer download > Baixar o .ipynb\n",
    "3. Faça o upload do arquivo no drive\n",
    "4. Altere as configurações do arquivo para deixá-lo público. \n",
    "5. Copie o link após alterar a permissão de acesso.\n",
    "6. Submeta o link do arquivo (e não da pasta do drive!) na plataforma."
   ]
  },
  {
   "cell_type": "markdown",
   "metadata": {},
   "source": [
    "Dica: Evite sequências longas de código sem explicação do que está sendo realizado. Pense que essa documentação está sendo apresentada para o cliente final, seu modelo não pode ser uma “caixa preta”."
   ]
  }
 ],
 "metadata": {
  "kernelspec": {
   "display_name": "base",
   "language": "python",
   "name": "python3"
  },
  "language_info": {
   "codemirror_mode": {
    "name": "ipython",
    "version": 3
   },
   "file_extension": ".py",
   "mimetype": "text/x-python",
   "name": "python",
   "nbconvert_exporter": "python",
   "pygments_lexer": "ipython3",
   "version": "3.12.7"
  }
 },
 "nbformat": 4,
 "nbformat_minor": 2
}
